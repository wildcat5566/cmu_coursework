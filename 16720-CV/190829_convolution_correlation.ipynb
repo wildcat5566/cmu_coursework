{
 "cells": [
  {
   "cell_type": "code",
   "execution_count": 1,
   "metadata": {},
   "outputs": [],
   "source": [
    "import numpy as np\n",
    "import scipy\n",
    "import scipy.signal\n",
    "import matplotlib.pyplot as plt\n",
    "import matplotlib.image as mpimg\n",
    "import random"
   ]
  },
  {
   "cell_type": "code",
   "execution_count": 2,
   "metadata": {},
   "outputs": [],
   "source": [
    "X = np.array([8,4,6,2,7])\n",
    "H = np.array([1,2])"
   ]
  },
  {
   "cell_type": "code",
   "execution_count": 3,
   "metadata": {},
   "outputs": [
    {
     "name": "stdout",
     "output_type": "stream",
     "text": [
      "valid padding result: \t[[20 14 14 11]] \n",
      "full padding result: \t[[ 8 20 14 14 11 14]] \n",
      "same padding result: \t[[ 8 20 14 14 11]]\n"
     ]
    }
   ],
   "source": [
    "#valid padding\n",
    "H_valid = np.matrix([[2,1,0,0,0],\n",
    "                     [0,2,1,0,0],\n",
    "                     [0,0,2,1,0], \n",
    "                     [0,0,0,2,1]])\n",
    "conv_valid = np.matmul(H_valid, X)\n",
    "\n",
    "#full convolution\n",
    "X_full = np.transpose(np.array([0,8,4,6,2,7,0]))\n",
    "H_full = np.matrix([[2,1,0,0,0,0,0],\n",
    "                    [0,2,1,0,0,0,0],\n",
    "                    [0,0,2,1,0,0,0], \n",
    "                    [0,0,0,2,1,0,0],\n",
    "                    [0,0,0,0,2,1,0],\n",
    "                    [0,0,0,0,0,2,1]])\n",
    "conv_full = np.matmul(H_full, X_full)\n",
    "\n",
    "#same padding\n",
    "X_same = np.transpose(np.array([0,8,4,6,2,7]))\n",
    "H_same = np.matrix([[2,1,0,0,0,0],\n",
    "                    [0,2,1,0,0,0],\n",
    "                    [0,0,2,1,0,0], \n",
    "                    [0,0,0,2,1,0],\n",
    "                    [0,0,0,0,2,1]])\n",
    "conv_same = np.matmul(H_same, X_same)\n",
    "\n",
    "print(\"valid padding result: \\t{} \\nfull padding result: \\t{} \\nsame padding result: \\t{}\"\n",
    "       .format(conv_valid, conv_full, conv_same))"
   ]
  },
  {
   "cell_type": "code",
   "execution_count": 4,
   "metadata": {},
   "outputs": [
    {
     "name": "stdout",
     "output_type": "stream",
     "text": [
      "X: [7 8 5 0 3 1 8 5 3 6]\n",
      "H: [2 4 1 8]\n"
     ]
    },
    {
     "data": {
      "text/plain": [
       "array([14, 44, 49, 84, 75, 54, 23, 67, 42, 93, 67, 30, 48])"
      ]
     },
     "execution_count": 4,
     "metadata": {},
     "output_type": "execute_result"
    }
   ],
   "source": [
    "def conv1d(x, h, padding='valid'):\n",
    "    print(\"X: {}\\nH: {}\".format(x, h))\n",
    "    x = np.array(x)\n",
    "    if padding=='same':\n",
    "        for i in range(len(h)-1):\n",
    "            x = np.insert(x, 0, 0)\n",
    "    elif padding=='full':\n",
    "        for i in range(len(h)-1):\n",
    "            x = np.insert(x, 0, 0)\n",
    "            x = np.insert(x, len(x), 0)\n",
    "\n",
    "    \"\"\"y = []\n",
    "    for i in range(len(x)-len(h)+1):\n",
    "        item = 0\n",
    "        for j in range(len(h)):\n",
    "            item += x[i+j]*h[len(h)-j-1]\n",
    "        y.append(item)\"\"\"\n",
    "        \n",
    "    y = [sum([x[i+j]*h[len(h)-j-1] for j in range(len(h))]) \\\n",
    "         for i in range(len(x) - len(h) + 1)]\n",
    "    \n",
    "    #print(\"ans: {}\".format(scipy.signal.convolve(x, h, mode=padding)))\n",
    "        \n",
    "    return np.array(y)\n",
    "\n",
    "#conv1d(X,H, padding='full')\n",
    "#conv1d([2,4,6,3,5,1],[4,2,9], padding='valid')\n",
    "conv1d(np.random.randint(10, size=10),np.random.randint(10, size=4), padding='full')"
   ]
  },
  {
   "cell_type": "code",
   "execution_count": 5,
   "metadata": {},
   "outputs": [
    {
     "name": "stdout",
     "output_type": "stream",
     "text": [
      "X: [8 4 6 2 7]\n",
      "H: [1 2]\n"
     ]
    },
    {
     "data": {
      "text/plain": [
       "array([16, 16, 10, 16])"
      ]
     },
     "execution_count": 5,
     "metadata": {},
     "output_type": "execute_result"
    }
   ],
   "source": [
    "def corr1d(x, h, padding='valid'):\n",
    "    print(\"X: {}\\nH: {}\".format(x, h))\n",
    "    x = np.array(x)\n",
    "    if padding=='same':\n",
    "        for i in range(len(h)-1):\n",
    "            x = np.insert(x, 0, 0)\n",
    "    elif padding=='full':\n",
    "        for i in range(len(h)-1):\n",
    "            x = np.insert(x, 0, 0)\n",
    "            x = np.insert(x, len(x), 0)\n",
    "        \n",
    "    y = [sum([x[i+j]*h[j] for j in range(len(h))]) \\\n",
    "         for i in range(len(x) - len(h) + 1)]\n",
    "    \n",
    "    return np.array(y)\n",
    "\n",
    "corr1d(X,H, padding='valid')"
   ]
  },
  {
   "cell_type": "code",
   "execution_count": 6,
   "metadata": {},
   "outputs": [
    {
     "name": "stdout",
     "output_type": "stream",
     "text": [
      "X: [1, 5, 9]\n",
      "H: [1 2]\n",
      "X: [8 4 6 2 7]\n",
      "H: [ 1  7 19 18]\n",
      "[  8  60 186 264 207 195 169 126]\n",
      "X: [8 4 6 2 7]\n",
      "H: [1 2]\n",
      "X: [ 8 20 14 14 11 14]\n",
      "H: [1, 5, 9]\n",
      "[  8  60 186 264 207 195 169 126]\n"
     ]
    }
   ],
   "source": [
    "#Prove associative\n",
    "G = [1,5,9]\n",
    "print(conv1d(X, conv1d(G,H, padding='full'), padding='full'))\n",
    "print(conv1d(conv1d(X,H, padding='full'), G, padding='full'))"
   ]
  },
  {
   "cell_type": "code",
   "execution_count": 7,
   "metadata": {},
   "outputs": [
    {
     "name": "stdout",
     "output_type": "stream",
     "text": [
      "X: [8 4 6 2 7]\n",
      "H: [1 2]\n",
      "[ 8 20 14 14 11 14]\n",
      "X: [1 2]\n",
      "H: [8 4 6 2 7]\n",
      "[ 8 20 14 14 11 14]\n"
     ]
    }
   ],
   "source": [
    "#Prove communicative\n",
    "print(conv1d(X, H, padding='full'))\n",
    "print(conv1d(H, X, padding='full'))"
   ]
  },
  {
   "cell_type": "code",
   "execution_count": 8,
   "metadata": {},
   "outputs": [
    {
     "name": "stdout",
     "output_type": "stream",
     "text": [
      "X: [[4, 6, 2, 3], [3, 7, 8, 9], [1, 0, 2, 4]]\n",
      "H: [[2, 5, 4], [1, 6, 3]]\n"
     ]
    },
    {
     "data": {
      "text/plain": [
       "array([[  8,  32,  50,  40,  23,  12],\n",
       "       [ 10,  59, 113, 119, 101,  45],\n",
       "       [  5,  30,  67,  96, 106,  43],\n",
       "       [  1,   6,   5,  16,  30,  12]])"
      ]
     },
     "execution_count": 8,
     "metadata": {},
     "output_type": "execute_result"
    }
   ],
   "source": [
    "def conv2d(x, h, padding='valid'):\n",
    "    print(\"X: {}\\nH: {}\".format(x, h))\n",
    "    x, h = np.array(x), np.array(h)\n",
    "    if padding=='same':\n",
    "        for j in range(len(h[0]) - 1):\n",
    "            x = np.insert(x, 0, 0, axis=1)\n",
    "        for i in range(len(h) - 1):\n",
    "            x = np.insert(x, 0, 0, axis=0)\n",
    "        \n",
    "    elif padding=='full':\n",
    "        for j in range(len(h[0]) - 1):\n",
    "            x = np.insert(x, 0, 0, axis=1)\n",
    "            x = np.insert(x, len(x[0]), 0, axis=1)\n",
    "        for i in range(len(h) - 1):\n",
    "            x = np.insert(x, 0, 0, axis=0)\n",
    "            x = np.insert(x, len(x), 0, axis=0)\n",
    "\n",
    "    #print(x)\n",
    "\n",
    "    x_h, x_w = x.shape[0], x.shape[1]\n",
    "    h_h, h_w = h.shape[0], h.shape[1]\n",
    "    \n",
    "    y = []\n",
    "    for i in range(x_h - h_h + 1):\n",
    "        y_sub = []\n",
    "        for j in range(x_w - h_w + 1):\n",
    "            new = 0\n",
    "            for ii in range(h_h):\n",
    "                for jj in range(h_w):\n",
    "                    new +=x[i+ii][j+jj] * h[h_h-ii-1][h_w-jj-1]\n",
    "            y_sub.append(new)\n",
    "        y.append(y_sub)\n",
    "\n",
    "    #print(\"ans: {}\".format(scipy.signal.convolve(x, h, mode=padding)))\n",
    "        \n",
    "    return np.array(y)\n",
    "\n",
    "X2 = [[4,6,2,3],\n",
    "      [3,7,8,9],\n",
    "      [1,0,2,4]]\n",
    "H2 = [[2,5,4], \n",
    "      [1,6,3]]\n",
    "conv2d(X2, H2, padding='full')\n",
    "#conv1d([2,4,6,3,5,1],[4,2,9], padding='valid')\n",
    "#conv1d(np.random.randint(10, size=10),np.random.randint(10, size=4), padding='full')"
   ]
  },
  {
   "cell_type": "code",
   "execution_count": 9,
   "metadata": {},
   "outputs": [
    {
     "name": "stdout",
     "output_type": "stream",
     "text": [
      "X: [[4, 6, 2, 3], [3, 7, 8, 9], [1, 0, 2, 4]]\n",
      "H: [[2, 5, 4], [1, 6, 3]]\n",
      "[[  8  32  50  40  23  12]\n",
      " [ 10  59 113 119 101  45]\n",
      " [  5  30  67  96 106  43]\n",
      " [  1   6   5  16  30  12]]\n",
      "X: [[2, 5, 4], [1, 6, 3]]\n",
      "H: [[4, 6, 2, 3], [3, 7, 8, 9], [1, 0, 2, 4]]\n",
      "[[  8  32  50  40  23  12]\n",
      " [ 10  59 113 119 101  45]\n",
      " [  5  30  67  96 106  43]\n",
      " [  1   6   5  16  30  12]]\n"
     ]
    }
   ],
   "source": [
    "print(conv2d(X2, H2, padding='full'))\n",
    "print(conv2d(H2, X2, padding='full'))"
   ]
  },
  {
   "cell_type": "code",
   "execution_count": 10,
   "metadata": {},
   "outputs": [
    {
     "name": "stdout",
     "output_type": "stream",
     "text": [
      "X: [[3, 11], [6, 4]]\n",
      "H: [[2, 5, 4], [1, 6, 3]]\n",
      "X: [[4, 6, 2, 3], [3, 7, 8, 9], [1, 0, 2, 4]]\n",
      "H: [[  6  37  67  44]\n",
      " [ 15  67 119  49]\n",
      " [  6  40  42  12]]\n",
      "[[  24  184  502  670  509  289  132]\n",
      " [  78  511 1416 2040 1910 1410  543]\n",
      " [  75  539 1445 2191 2456 1969  653]\n",
      " [  33  229  603  947 1286 1048  304]\n",
      " [   6   40   54  116  244  192   48]]\n",
      "X: [[4, 6, 2, 3], [3, 7, 8, 9], [1, 0, 2, 4]]\n",
      "H: [[2, 5, 4], [1, 6, 3]]\n",
      "X: [[  8  32  50  40  23  12]\n",
      " [ 10  59 113 119 101  45]\n",
      " [  5  30  67  96 106  43]\n",
      " [  1   6   5  16  30  12]]\n",
      "H: [[3, 11], [6, 4]]\n",
      "[[  24  184  502  670  509  289  132]\n",
      " [  78  511 1416 2040 1910 1410  543]\n",
      " [  75  539 1445 2191 2456 1969  653]\n",
      " [  33  229  603  947 1286 1048  304]\n",
      " [   6   40   54  116  244  192   48]]\n"
     ]
    }
   ],
   "source": [
    "G2 = [[3,11],\n",
    "      [6,4]]\n",
    "print(conv2d(X2, conv2d(G2,H2, padding='full'), padding='full'))\n",
    "print(conv2d(conv2d(X2,H2, padding='full'), G2, padding='full'))"
   ]
  },
  {
   "cell_type": "code",
   "execution_count": null,
   "metadata": {},
   "outputs": [],
   "source": []
  }
 ],
 "metadata": {
  "kernelspec": {
   "display_name": "Python 3",
   "language": "python",
   "name": "python3"
  },
  "language_info": {
   "codemirror_mode": {
    "name": "ipython",
    "version": 3
   },
   "file_extension": ".py",
   "mimetype": "text/x-python",
   "name": "python",
   "nbconvert_exporter": "python",
   "pygments_lexer": "ipython3",
   "version": "3.5.2"
  }
 },
 "nbformat": 4,
 "nbformat_minor": 2
}
